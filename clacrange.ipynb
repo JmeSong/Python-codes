{
  "nbformat": 4,
  "nbformat_minor": 0,
  "metadata": {
    "colab": {
      "name": "Untitled5.ipynb",
      "provenance": [],
      "authorship_tag": "ABX9TyNfnh6lk4f5BEbRwgyW+Q5m",
      "include_colab_link": true
    },
    "kernelspec": {
      "name": "python3",
      "display_name": "Python 3"
    },
    "language_info": {
      "name": "python"
    }
  },
  "cells": [
    {
      "cell_type": "markdown",
      "metadata": {
        "id": "view-in-github",
        "colab_type": "text"
      },
      "source": [
        "<a href=\"https://colab.research.google.com/github/JmeSong/Python-codes/blob/main/clacrange.ipynb\" target=\"_parent\"><img src=\"https://colab.research.google.com/assets/colab-badge.svg\" alt=\"Open In Colab\"/></a>"
      ]
    },
    {
      "cell_type": "code",
      "metadata": {
        "id": "QL8T45oM_vXA",
        "outputId": "cbc33f61-b3f9-417c-e556-acc94d2f8781",
        "colab": {
          "base_uri": "https://localhost:8080/"
        }
      },
      "source": [
        "# calcrange\n",
        "\n",
        "def calcrange (begin, end):\n",
        "  sum = 0\n",
        "  for num in range (begin, end + 1):\n",
        "    sum += num\n",
        "  return sum\n",
        "\n",
        "print (\"3 ~ 7 =\", calcrange(3, 7))"
      ],
      "execution_count": 1,
      "outputs": [
        {
          "output_type": "stream",
          "text": [
            "3 ~ 7 = 25\n"
          ],
          "name": "stdout"
        }
      ]
    }
  ]
}