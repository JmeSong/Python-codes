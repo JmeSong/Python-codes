{
  "nbformat": 4,
  "nbformat_minor": 0,
  "metadata": {
    "colab": {
      "name": "Untitled6.ipynb",
      "provenance": [],
      "authorship_tag": "ABX9TyOdt8k/Kn0BiIUl+Ib77cwl",
      "include_colab_link": true
    },
    "kernelspec": {
      "name": "python3",
      "display_name": "Python 3"
    },
    "language_info": {
      "name": "python"
    }
  },
  "cells": [
    {
      "cell_type": "markdown",
      "metadata": {
        "id": "view-in-github",
        "colab_type": "text"
      },
      "source": [
        "<a href=\"https://colab.research.google.com/github/JmeSong/Python-codes/blob/main/printsum.ipynb\" target=\"_parent\"><img src=\"https://colab.research.google.com/assets/colab-badge.svg\" alt=\"Open In Colab\"/></a>"
      ]
    },
    {
      "cell_type": "code",
      "metadata": {
        "colab": {
          "base_uri": "https://localhost:8080/"
        },
        "id": "baQR_bpWAS8I",
        "outputId": "419c9360-87d2-4565-b99b-6fc5b7b0753f"
      },
      "source": [
        "# printsum\n",
        "\n",
        "def printsum(n):\n",
        "  sum = 0\n",
        "  for num in range(n + 1):\n",
        "    sum += num\n",
        "  print(\"~\", n, \"=\", sum)\n",
        "\n",
        "printsum(4)\n",
        "printsum(10)"
      ],
      "execution_count": 1,
      "outputs": [
        {
          "output_type": "stream",
          "text": [
            "~ 4 = 10\n",
            "~ 10 = 55\n"
          ],
          "name": "stdout"
        }
      ]
    }
  ]
}