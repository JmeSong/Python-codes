{
  "nbformat": 4,
  "nbformat_minor": 0,
  "metadata": {
    "colab": {
      "name": "calcstep.ipynb",
      "provenance": [],
      "collapsed_sections": [],
      "authorship_tag": "ABX9TyNGBeYvnq0OPMVC6Niy9xl7",
      "include_colab_link": true
    },
    "kernelspec": {
      "name": "python3",
      "display_name": "Python 3"
    },
    "language_info": {
      "name": "python"
    }
  },
  "cells": [
    {
      "cell_type": "markdown",
      "metadata": {
        "id": "view-in-github",
        "colab_type": "text"
      },
      "source": [
        "<a href=\"https://colab.research.google.com/github/JmeSong/Python-codes/blob/main/calcstep.ipynb\" target=\"_parent\"><img src=\"https://colab.research.google.com/assets/colab-badge.svg\" alt=\"Open In Colab\"/></a>"
      ]
    },
    {
      "cell_type": "code",
      "metadata": {
        "id": "LGnlQ8SRGGsl",
        "colab": {
          "base_uri": "https://localhost:8080/"
        },
        "outputId": "cd9bc363-093b-4386-8f61-b69396245338"
      },
      "source": [
        "#calcstep\n",
        "\n",
        "def calcstep(begin, end, step = 1):\n",
        "  sum = 0\n",
        "  for num in range(begin, end + 1, step):\n",
        "      sum += num\n",
        "  return sum\n",
        "\n",
        "print(\"1 ~ 10 =\", calcstep(1, 10, 2))\n",
        "print(\"1 ~ 100 =\", calcstep(1, 100))"
      ],
      "execution_count": 10,
      "outputs": [
        {
          "output_type": "stream",
          "text": [
            "1 ~ 10 = 25\n",
            "1 ~ 100 = 5050\n"
          ],
          "name": "stdout"
        }
      ]
    }
  ]
}