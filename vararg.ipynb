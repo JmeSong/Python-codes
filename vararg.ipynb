{
  "nbformat": 4,
  "nbformat_minor": 0,
  "metadata": {
    "colab": {
      "name": "Untitled7.ipynb",
      "provenance": [],
      "authorship_tag": "ABX9TyMfAUqXy2TgnWpRUHxhYFrc",
      "include_colab_link": true
    },
    "kernelspec": {
      "name": "python3",
      "display_name": "Python 3"
    },
    "language_info": {
      "name": "python"
    }
  },
  "cells": [
    {
      "cell_type": "markdown",
      "metadata": {
        "id": "view-in-github",
        "colab_type": "text"
      },
      "source": [
        "<a href=\"https://colab.research.google.com/github/JmeSong/Python-codes/blob/main/vararg.ipynb\" target=\"_parent\"><img src=\"https://colab.research.google.com/assets/colab-badge.svg\" alt=\"Open In Colab\"/></a>"
      ]
    },
    {
      "cell_type": "code",
      "metadata": {
        "colab": {
          "base_uri": "https://localhost:8080/"
        },
        "id": "BO8scfmqBu4X",
        "outputId": "473cd9a3-c3fd-4994-8a1a-a99531605395"
      },
      "source": [
        "# vararg\n",
        "\n",
        "def intsum(*ints):\n",
        "  sum = 0\n",
        "  for num in ints:\n",
        "    sum += num\n",
        "  return sum\n",
        "\n",
        "print(intsum(1, 2, 3))\n",
        "print(intsum(5, 7, 9, 11, 13))\n",
        "print(intsum(8, 9, 6, 2, 9, 7, 5, 8))"
      ],
      "execution_count": 2,
      "outputs": [
        {
          "output_type": "stream",
          "text": [
            "6\n",
            "45\n",
            "54\n"
          ],
          "name": "stdout"
        }
      ]
    }
  ]
}