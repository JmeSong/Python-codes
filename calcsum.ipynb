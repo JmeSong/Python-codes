{
  "nbformat": 4,
  "nbformat_minor": 0,
  "metadata": {
    "colab": {
      "name": "Untitled4.ipynb",
      "provenance": [],
      "authorship_tag": "ABX9TyMjDh4aJuLRNr0v6bVgP/DS",
      "include_colab_link": true
    },
    "kernelspec": {
      "name": "python3",
      "display_name": "Python 3"
    },
    "language_info": {
      "name": "python"
    }
  },
  "cells": [
    {
      "cell_type": "markdown",
      "metadata": {
        "id": "view-in-github",
        "colab_type": "text"
      },
      "source": [
        "<a href=\"https://colab.research.google.com/github/JmeSong/Python-codes/blob/main/calcsum.ipynb\" target=\"_parent\"><img src=\"https://colab.research.google.com/assets/colab-badge.svg\" alt=\"Open In Colab\"/></a>"
      ]
    },
    {
      "cell_type": "code",
      "metadata": {
        "colab": {
          "base_uri": "https://localhost:8080/"
        },
        "id": "JSpdqDbn_hHJ",
        "outputId": "78511eff-6d2a-4269-d29a-1f6b195ee3cd"
      },
      "source": [
        "#calcsum\n",
        "\n",
        "def calcsum(n):\n",
        "  sum = 0\n",
        "  for num in range(n + 1):\n",
        "    sum += num\n",
        "  return sum\n",
        "\n",
        "print(\"~4 =\", calcsum(4))\n",
        "print(\"~10 =\", calcsum(10))"
      ],
      "execution_count": 1,
      "outputs": [
        {
          "output_type": "stream",
          "text": [
            "~4 = 10\n",
            "~10 = 55\n"
          ],
          "name": "stdout"
        }
      ]
    }
  ]
}