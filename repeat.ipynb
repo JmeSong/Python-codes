{
  "nbformat": 4,
  "nbformat_minor": 0,
  "metadata": {
    "colab": {
      "name": "Untitled3.ipynb",
      "provenance": [],
      "authorship_tag": "ABX9TyMzA+7dSAO8y4fMp8UeCHGr",
      "include_colab_link": true
    },
    "kernelspec": {
      "name": "python3",
      "display_name": "Python 3"
    },
    "language_info": {
      "name": "python"
    }
  },
  "cells": [
    {
      "cell_type": "markdown",
      "metadata": {
        "id": "view-in-github",
        "colab_type": "text"
      },
      "source": [
        "<a href=\"https://colab.research.google.com/github/JmeSong/Python-codes/blob/main/repeat.ipynb\" target=\"_parent\"><img src=\"https://colab.research.google.com/assets/colab-badge.svg\" alt=\"Open In Colab\"/></a>"
      ]
    },
    {
      "cell_type": "code",
      "metadata": {
        "colab": {
          "base_uri": "https://localhost:8080/"
        },
        "id": "rEuHiKG28myZ",
        "outputId": "3385bb05-91f7-4358-cb23-1ba3562ade5d"
      },
      "source": [
        "# repeat\n",
        "\n",
        "\n",
        "sum = 0\n",
        "for num in range( 5):\n",
        "    sum += num\n",
        "print(\"~ 4 =\", sum)\n",
        "\n",
        "sum = 0\n",
        "for num in range(11):\n",
        "    sum += num\n",
        "print(\"~10 =\", sum)"
      ],
      "execution_count": 2,
      "outputs": [
        {
          "output_type": "stream",
          "text": [
            "~ 4 = 10\n",
            "~10 = 55\n"
          ],
          "name": "stdout"
        }
      ]
    }
  ]
}