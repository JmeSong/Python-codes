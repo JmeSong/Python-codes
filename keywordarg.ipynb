{
  "nbformat": 4,
  "nbformat_minor": 0,
  "metadata": {
    "colab": {
      "name": "keywordarg.ipynb",
      "provenance": [],
      "authorship_tag": "ABX9TyNfPdOeSY2KpKiOwquSFeex",
      "include_colab_link": true
    },
    "kernelspec": {
      "name": "python3",
      "display_name": "Python 3"
    },
    "language_info": {
      "name": "python"
    }
  },
  "cells": [
    {
      "cell_type": "markdown",
      "metadata": {
        "id": "view-in-github",
        "colab_type": "text"
      },
      "source": [
        "<a href=\"https://colab.research.google.com/github/JmeSong/Python-codes/blob/master/keywordarg.ipynb\" target=\"_parent\"><img src=\"https://colab.research.google.com/assets/colab-badge.svg\" alt=\"Open In Colab\"/></a>"
      ]
    },
    {
      "cell_type": "code",
      "metadata": {
        "colab": {
          "base_uri": "https://localhost:8080/"
        },
        "id": "dGPsZ0ZSKJX-",
        "outputId": "fc1187e5-8343-4d1e-c4af-42619c326e3f"
      },
      "source": [
        "#keywordarg\n",
        "\n",
        "def calcstep(begin, end, step):\n",
        "  sum = 0\n",
        "  for num in range(begin, end + 1, step):\n",
        "    sum += num\n",
        "  return sum\n",
        "\n",
        "print(\"3 ~ 5 =\", calcstep(3, 5, 1))\n",
        "print(\"3 ~ 5 =\", calcstep(begin = 3, end = 5, step = 1))\n",
        "print(\"3 ~ 5 =\", calcstep(step = 1, end = 5, begin = 3))\n",
        "print(\"3 ~ 5 =\", calcstep(3, 5, step = 1))\n",
        "print(\"3 ~ 5 =\", calcstep(3, step = 1, end = 5))"
      ],
      "execution_count": 1,
      "outputs": [
        {
          "output_type": "stream",
          "text": [
            "3 ~ 5 = 12\n",
            "3 ~ 5 = 12\n",
            "3 ~ 5 = 12\n",
            "3 ~ 5 = 12\n",
            "3 ~ 5 = 12\n"
          ],
          "name": "stdout"
        }
      ]
    }
  ]
}