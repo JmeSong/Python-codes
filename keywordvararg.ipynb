{
  "nbformat": 4,
  "nbformat_minor": 0,
  "metadata": {
    "colab": {
      "name": "keywordvararg.ipynb",
      "provenance": [],
      "authorship_tag": "ABX9TyOlYSrn0L0VpuOcYOnLQKPq",
      "include_colab_link": true
    },
    "kernelspec": {
      "name": "python3",
      "display_name": "Python 3"
    },
    "language_info": {
      "name": "python"
    }
  },
  "cells": [
    {
      "cell_type": "markdown",
      "metadata": {
        "id": "view-in-github",
        "colab_type": "text"
      },
      "source": [
        "<a href=\"https://colab.research.google.com/github/JmeSong/Python-codes/blob/master/keywordvararg.ipynb\" target=\"_parent\"><img src=\"https://colab.research.google.com/assets/colab-badge.svg\" alt=\"Open In Colab\"/></a>"
      ]
    },
    {
      "cell_type": "code",
      "metadata": {
        "colab": {
          "base_uri": "https://localhost:8080/"
        },
        "id": "8b3HfkqCLaf7",
        "outputId": "d217d10d-2cc9-40f2-cce7-79345a9ae8a9"
      },
      "source": [
        "# keywordvararg\n",
        "\n",
        "def calcstep(**args):\n",
        "  begin = args['begin']\n",
        "  end = args['end']\n",
        "  step = args['step']\n",
        "\n",
        "  sum = 0\n",
        "  for num in range(begin, end + 1, step):\n",
        "    sum += num\n",
        "  return sum\n",
        "\n",
        "print(\"3 ~ 5 =\", calcstep(begin = 3, end = 5, step = 1))\n",
        "print(\"3 ~ 5 =\", calcstep(step = 1, end = 5, begin = 3))"
      ],
      "execution_count": 1,
      "outputs": [
        {
          "output_type": "stream",
          "text": [
            "3 ~ 5 = 12\n",
            "3 ~ 5 = 12\n"
          ],
          "name": "stdout"
        }
      ]
    }
  ]
}