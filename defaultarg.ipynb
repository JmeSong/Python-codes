{
  "nbformat": 4,
  "nbformat_minor": 0,
  "metadata": {
    "colab": {
      "name": "Untitled8.ipynb",
      "provenance": [],
      "authorship_tag": "ABX9TyNGG9c0vVmnhG/PsBpDXN+/",
      "include_colab_link": true
    },
    "kernelspec": {
      "name": "python3",
      "display_name": "Python 3"
    },
    "language_info": {
      "name": "python"
    }
  },
  "cells": [
    {
      "cell_type": "markdown",
      "metadata": {
        "id": "view-in-github",
        "colab_type": "text"
      },
      "source": [
        "<a href=\"https://colab.research.google.com/github/JmeSong/Python-codes/blob/main/defaultarg.ipynb\" target=\"_parent\"><img src=\"https://colab.research.google.com/assets/colab-badge.svg\" alt=\"Open In Colab\"/></a>"
      ]
    },
    {
      "cell_type": "code",
      "metadata": {
        "colab": {
          "base_uri": "https://localhost:8080/"
        },
        "id": "8HQhvWerEsOu",
        "outputId": "3b504543-1d88-4f7d-ec23-9c2c7f9181b8"
      },
      "source": [
        "#defaultarg\n",
        "\n",
        "def calcstep(begin, end, step):\n",
        "  sum = 0\n",
        "  for num in range(begin, end + 1, step):\n",
        "    sum += num\n",
        "  return sum\n",
        "\n",
        "print(\"1 ~ 10 =\", calcstep(1, 10, 2))\n",
        "print(\"2 ~ 10 =\", calcstep(2, 10, 2))"
      ],
      "execution_count": 1,
      "outputs": [
        {
          "output_type": "stream",
          "text": [
            "1 ~ 10 = 25\n",
            "2 ~ 10 = 30\n"
          ],
          "name": "stdout"
        }
      ]
    }
  ]
}